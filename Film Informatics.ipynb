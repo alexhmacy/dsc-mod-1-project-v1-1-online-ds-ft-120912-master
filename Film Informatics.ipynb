{
 "cells": [
  {
   "cell_type": "markdown",
   "metadata": {},
   "source": [
    "### Module 1, Project 1"
   ]
  },
  {
   "cell_type": "markdown",
   "metadata": {},
   "source": [
    "### PART 1: Importing and the IMDB Datasets\n",
    "\n",
    "I begin by importing the packages and files necessary for this project."
   ]
  },
  {
   "cell_type": "code",
   "execution_count": 1,
   "metadata": {},
   "outputs": [],
   "source": [
    "# Import necessary packages\n",
    "import numpy as np, pandas as pd, seaborn as sns, matplotlib.pyplot as plt\n",
    "from collections import Counter\n",
    "%matplotlib inline"
   ]
  },
  {
   "cell_type": "code",
   "execution_count": 2,
   "metadata": {},
   "outputs": [],
   "source": [
    "# Read each of the datasets into a Pandas dataframe\n",
    "    \n",
    "# IMDB datasets\n",
    "imdb_name_basics = pd.read_csv('data/imdb.name.basics.csv')\n",
    "imdb_title_akas = pd.read_csv('data/imdb.title.akas.csv')\n",
    "imdb_title_basics = pd.read_csv('data/imdb.title.basics.csv')\n",
    "imdb_title_crew = pd.read_csv('data/imdb.title.crew.csv')\n",
    "imdb_title_principals = pd.read_csv('data/imdb.title.principals.csv')\n",
    "imdb_title_ratings = pd.read_csv('data/imdb.title.ratings.csv')\n",
    "\n",
    "# Rotten Tomatoes datasets\n",
    "rotten_movie_info = pd.read_csv('data/rt.movie_info.tsv', delimiter='\\t', \n",
    "                               encoding = 'unicode_escape')\n",
    "rotten_reviews = pd.read_csv('data/rt.reviews.tsv', delimiter='\\t', \n",
    "                             encoding = 'unicode_escape')\n",
    "\n",
    "# Movie Database datasets\n",
    "tmdb_movies = pd.read_csv('data/tmdb.movies.csv')\n",
    "tn_movie_budgets = pd.read_csv('data/tn.movie_budgets.csv')\n",
    "\n",
    "# Box Office Mojo dataset\n",
    "box_office_mojo = pd.read_csv('data/bom.movie_gross.csv')"
   ]
  },
  {
   "cell_type": "markdown",
   "metadata": {},
   "source": [
    "Now that I have all of the movie files in my project, I am going to begin to inspect the data in each file to determine what data cleaning I will have to perform and how I might join these dataframes to create more meaningful tables."
   ]
  },
  {
   "cell_type": "markdown",
   "metadata": {},
   "source": [
    "  I wanted to make 'all_data' a list of all of my dataframes, and then use a for loop to iterate through\n",
    "  every dataframe in 'all_data' and preview all of the .head()'s at once, but could not figure out how to do so.\n",
    "  At the risk of being redundant, I made multiple calls to 'inspect_data' instead."
   ]
  },
  {
   "cell_type": "code",
   "execution_count": 3,
   "metadata": {
    "scrolled": true
   },
   "outputs": [],
   "source": [
    "# Inspect the dataset(s) .head()\n",
    "def inspect_data(dataset):\n",
    "    return  dataset.head()"
   ]
  },
  {
   "cell_type": "code",
   "execution_count": 4,
   "metadata": {
    "scrolled": false
   },
   "outputs": [],
   "source": [
    "#inspect_data(imdb_name_basics)\n",
    "#inspect_data(imdb_title_akas)\n",
    "#inspect_data(imdb_title_basics)\n",
    "#inspect_data(imdb_title_crew)\n",
    "#inspect_data(imdb_title_principals)\n",
    "#inspect_data(imdb_title_ratings)"
   ]
  },
  {
   "cell_type": "markdown",
   "metadata": {},
   "source": [
    "After previwing all of my datasets from IMDB, I noticed some similarities. Among the dataframes, 'nconst' and 'directors' hold the same kind of data; I can merge these columns in a join. I also noticed that 'title_id' and 'tconst' can be merged. First, all of the corresponding columns will have to be renamed to match, and then set as index points for the joins. "
   ]
  },
  {
   "cell_type": "code",
   "execution_count": 5,
   "metadata": {},
   "outputs": [],
   "source": [
    "# Rename the 'nconst' column to 'directors'\n",
    "imdb_name_basics = imdb_name_basics.rename({'nconst':'directors'} , axis = 1)\n",
    "# Doublecheck:\n",
    "#imdb_name_basics.columns"
   ]
  },
  {
   "cell_type": "code",
   "execution_count": 6,
   "metadata": {
    "scrolled": true
   },
   "outputs": [],
   "source": [
    "# Rename the 'nconst' column to 'directors'\n",
    "imdb_title_principals = imdb_title_principals.rename({'nconst':'directors'} , axis = 1)\n",
    "# Doublecheck:\n",
    "#imdb_title_principals.columns"
   ]
  },
  {
   "cell_type": "code",
   "execution_count": 7,
   "metadata": {},
   "outputs": [],
   "source": [
    "# Set the index for the 'name_basics' and 'title_principals' datasets to 'directors'\n",
    "imdb_name_basics.set_index('directors', inplace=True)\n",
    "imdb_title_principals.set_index('directors', inplace=True)"
   ]
  },
  {
   "cell_type": "code",
   "execution_count": 8,
   "metadata": {},
   "outputs": [],
   "source": [
    "# Join 'name_basics' and 'title_principals' by the index 'directors'\n",
    "imdb_set_directors = imdb_name_basics.join(imdb_title_principals, how = \"inner\")\n",
    "# Doublecheck:\n",
    "#imdb_set_directors.head()"
   ]
  },
  {
   "cell_type": "code",
   "execution_count": 9,
   "metadata": {
    "scrolled": true
   },
   "outputs": [],
   "source": [
    "# Rename the 'title_id' column to 'tconst'\n",
    "imdb_title_akas = imdb_title_akas.rename({'title_id':'tconst'} , axis = 1)\n",
    "# Doublecheck:\n",
    "#imdb_title_akas.columns"
   ]
  },
  {
   "cell_type": "code",
   "execution_count": 10,
   "metadata": {},
   "outputs": [],
   "source": [
    "# Prepare to merge tables with 'tconst' by setting all indexes to 'tconst'\n",
    "# I could have used a function and a for loop to iterate through all of these\n",
    "# datasets and set their index to 'tconst', but I chose to do each in their turn\n",
    "# to visualize that each dataset being reassigned its index\n",
    "imdb_set_directors.set_index('tconst', inplace=True)\n",
    "imdb_title_akas.set_index('tconst', inplace=True)\n",
    "imdb_title_crew.set_index('tconst', inplace=True)\n",
    "imdb_title_basics.set_index('tconst', inplace=True)\n",
    "imdb_title_ratings.set_index('tconst', inplace=True)"
   ]
  },
  {
   "cell_type": "code",
   "execution_count": 11,
   "metadata": {},
   "outputs": [],
   "source": [
    "# Join 'set_directors' to 'title_akas' to make a larger dataframe\n",
    "# I am using outer joins to make sure that no data is lost making these larger dataframes\n",
    "# Although I could merge the 'ordering' columns in these datasets, I don't believe\n",
    "# the data would be useful enough to do so. Rather, I will keep both columns to make sure\n",
    "# I will not lose data, even though I may not use it\n",
    "imdb_join_1 = imdb_set_directors.join(imdb_title_akas, how = \"outer\", rsuffix = '_alt')\n",
    "# Doublecheck:\n",
    "#imdb_join_1.head()"
   ]
  },
  {
   "cell_type": "code",
   "execution_count": 12,
   "metadata": {},
   "outputs": [],
   "source": [
    "# Join 'title_crew' to 'title_basics' to make a larger dataframe\n",
    "imdb_join_2 = imdb_title_crew.join(imdb_title_basics, how = \"outer\")\n",
    "# Doublecheck:\n",
    "#imdb_join_2.head()"
   ]
  },
  {
   "cell_type": "code",
   "execution_count": 13,
   "metadata": {
    "scrolled": true
   },
   "outputs": [],
   "source": [
    "# Join 'title_ratings' to larger dataframe 'imdb_join_2'\n",
    "imdb_join_3 = imdb_join_2.join(imdb_title_ratings, how = \"outer\")\n",
    "# Doublecheck:\n",
    "#imdb_join_3.head()"
   ]
  },
  {
   "cell_type": "code",
   "execution_count": 14,
   "metadata": {
    "scrolled": false
   },
   "outputs": [],
   "source": [
    "# Finally, join our two large dataframes into one, representing all of IMDB's data\n",
    "all_imdb = imdb_join_1.join(imdb_join_3, how = \"outer\")\n",
    "# Doublecheck:\n",
    "all_imdb = all_imdb.reset_index(drop=True)\n",
    "#all_imdb.head()"
   ]
  },
  {
   "cell_type": "markdown",
   "metadata": {},
   "source": [
    "Now that I have create a dataframe representing all of my data from the IMDB website, it would be a good time \n",
    "to do some data cleaning. I begin by checking how many Nan/null values are in 'all_imdb'"
   ]
  },
  {
   "cell_type": "code",
   "execution_count": 15,
   "metadata": {
    "scrolled": true
   },
   "outputs": [],
   "source": [
    "#Show how many NaN or null values are in 'all_imdb'\n",
    "#all_imdb.isna().sum()"
   ]
  },
  {
   "cell_type": "markdown",
   "metadata": {},
   "source": [
    "Looking a this .sum() total, it becomes clear that almost all rows and columns in my dataframe are missing data of some kind. It wouldn't do to drop Nan/null values across my whole dataframe, because then I would have a dataframe with next to no rows of data! Instead, I will first group my data by the columns I believe will contain the most informative data, and focus on the NaN/null values at another time."
   ]
  },
  {
   "cell_type": "markdown",
   "metadata": {},
   "source": [
    "Previewing 'all_imdb' I determine the most valuable columns I can .groupby() are 'runtime_minutes', 'genres', and\n",
    "'averagerating'."
   ]
  },
  {
   "cell_type": "code",
   "execution_count": 16,
   "metadata": {
    "scrolled": false
   },
   "outputs": [],
   "source": [
    "# Group 'all_imdb' by most valuable data\n",
    "imdb_grouped = all_imdb.groupby([all_imdb.index])[('runtime_minutes','genres','averagerating')]\n",
    "#Doublecheck:\n",
    "#imdb_grouped.head()"
   ]
  },
  {
   "cell_type": "markdown",
   "metadata": {},
   "source": [
    "### Question 1: \n",
    "What is the average runtime of movies on IMDB?"
   ]
  },
  {
   "cell_type": "markdown",
   "metadata": {},
   "source": [
    "\"all_imdb\" contains NaN values in the 'runtime_minutes' column. If I am to correctly calculate the mean, I will have to drop these values from the column."
   ]
  },
  {
   "cell_type": "code",
   "execution_count": 17,
   "metadata": {
    "scrolled": true
   },
   "outputs": [],
   "source": [
    "# Drop NaN values from the column 'runtime_minutes', and store\n",
    "# these results in a variable called 'imdb_runtime'\n",
    "imdb_runtime = all_imdb['runtime_minutes'].dropna()"
   ]
  },
  {
   "cell_type": "code",
   "execution_count": 18,
   "metadata": {},
   "outputs": [
    {
     "name": "stdout",
     "output_type": "stream",
     "text": [
      "98\n"
     ]
    }
   ],
   "source": [
    "# Create a function to calculate the mean\n",
    "def get_mean(data):\n",
    "    mean = sum(data)/len(data)\n",
    "    return round(mean)\n",
    "\n",
    "# Create a variable called 'avg_run' to hold the average runtime\n",
    "avg_run = get_mean(imdb_runtime)\n",
    "print(avg_run)"
   ]
  },
  {
   "cell_type": "markdown",
   "metadata": {},
   "source": [
    "So, the average runtime for movies on IMDB is approximately 98 minutes."
   ]
  },
  {
   "cell_type": "markdown",
   "metadata": {},
   "source": [
    "### Question 2:\n",
    "What is the average and most common rating for movies on IMDB?"
   ]
  },
  {
   "cell_type": "code",
   "execution_count": 19,
   "metadata": {},
   "outputs": [],
   "source": [
    "# First drop all NaN/Null values in 'averagerating' and assign this new\n",
    "# column to 'imdb_rating'\n",
    "imdb_rating = all_imdb['averagerating'].dropna()"
   ]
  },
  {
   "cell_type": "code",
   "execution_count": 20,
   "metadata": {
    "scrolled": true
   },
   "outputs": [
    {
     "data": {
      "text/plain": [
       "6"
      ]
     },
     "execution_count": 20,
     "metadata": {},
     "output_type": "execute_result"
    }
   ],
   "source": [
    "# Calculate the mean\n",
    "get_mean(imdb_rating)"
   ]
  },
  {
   "cell_type": "code",
   "execution_count": 21,
   "metadata": {},
   "outputs": [
    {
     "name": "stdout",
     "output_type": "stream",
     "text": [
      "6\n"
     ]
    }
   ],
   "source": [
    "# Find the most common 'averagerating' cast this as an int, and then round the result\n",
    "# to a one significant place\n",
    "rating_mode = round(int(all_imdb['averagerating'].mode()))\n",
    "print(rating_mode)"
   ]
  },
  {
   "cell_type": "markdown",
   "metadata": {},
   "source": [
    "So, we can see that the average and most common rating for movies on IMDB is 6/10. This is informative for our dataset as a whole, but it does not give any particularly valuable information to Microsoft because these calculations lack specificity-- A better calculation would be to determine what are the top five genres of film, and, out of those genres, which scored highest among critics and audiences."
   ]
  },
  {
   "cell_type": "markdown",
   "metadata": {},
   "source": [
    "### Question 3: \n",
    "What are the top 5 genres in my IMDB dataset?"
   ]
  },
  {
   "cell_type": "code",
   "execution_count": 22,
   "metadata": {
    "scrolled": false
   },
   "outputs": [
    {
     "name": "stdout",
     "output_type": "stream",
     "text": [
      "{'Drama': 427959, 'Documentary': 287475, 'Comedy': 174175, 'Comedy,Drama': 113031, 'Drama,Romance': 74974}\n"
     ]
    },
    {
     "data": {
      "image/png": "[encoded data removed]",
      "text/plain": [
       "<Figure size 720x360 with 1 Axes>"
      ]
     },
     "metadata": {
      "needs_background": "light"
     },
     "output_type": "display_data"
    },
    {
     "data": {
      "text/plain": [
       "(None,\n",
       " (<Figure size 720x360 with 1 Axes>,\n",
       "  <BarContainer object of 5 artists>,\n",
       "  Text(0.5, 17.200000000000003, 'Genre'),\n",
       "  Text(17.200000000000003, 0.5, 'Number of Movies'),\n",
       "  Text(0.5, 1, 'Genres by Film Count'),\n",
       "  None))"
      ]
     },
     "execution_count": 22,
     "metadata": {},
     "output_type": "execute_result"
    }
   ],
   "source": [
    "# Create a function to find the top 5 genres in the dataset\n",
    "def top_5_genres(dataset):\n",
    "    # Create an empty dictionary to hold the frequency values\n",
    "    frequency_dict = {}\n",
    "    # For every piece of data in the 'genres' column\n",
    "    for genre in dataset['genres']:\n",
    "        # If the value is not already in frequency_dict, add it\n",
    "        if genre not in frequency_dict:\n",
    "            frequency_dict[genre] = 1\n",
    "        # If the value does already exist, add 1 to the value\n",
    "        else:\n",
    "            frequency_dict[genre] += 1\n",
    "    # Create a dictionary with a counter that will iterate through frequency_dict and \n",
    "    # using the .most_common() method, will return the top 5\n",
    "    top_5_genres = dict(Counter(frequency_dict).most_common(5))\n",
    "    \n",
    "     # Print the dictionary we have created, and then plot the results       \n",
    "    return  print(top_5_genres), (plt.figure(figsize=(10,5)), plt.bar(*zip(*sorted(top_5_genres.items()))), plt.xlabel('Genre'),\n",
    "    plt.ylabel('Number of Movies'), plt.title('Genres by Film Count'), plt.show())\n",
    "# Call the function\n",
    "top_5_genres(all_imdb)"
   ]
  },
  {
   "cell_type": "markdown",
   "metadata": {},
   "source": [
    "So, from our equation we can see that the Top 5 Film Genres are Drama, Documentary, Comedy, Comedy/Drama, and Drama/Romance."
   ]
  },
  {
   "cell_type": "markdown",
   "metadata": {},
   "source": [
    "### Question 4: \n",
    "But which of these Genres was highest rated the most?"
   ]
  },
  {
   "cell_type": "code",
   "execution_count": 23,
   "metadata": {
    "scrolled": true
   },
   "outputs": [
    {
     "name": "stdout",
     "output_type": "stream",
     "text": [
      "[21234, 32362, 4800, 4002, 1244]\n",
      "[(0.00713677131175228, 0.010876904643069006, 0.0016132854053127505, 0.0013450767066795057, 0.0004181098008768878)]\n"
     ]
    }
   ],
   "source": [
    "# Using the .loc method, find all instances where 'genre' is one of our top 5 genres,\n",
    "# and then where the 'averagerating' for that genres >=8.\n",
    "#  The length of this result will be the number of times this genre entry has been scored >= 8.\n",
    "perfect_drama = len(all_imdb.loc[(all_imdb['genres'] == 'Drama') &\n",
    "             (all_imdb['averagerating'] >= 8), 'genres'])\n",
    "\n",
    "perfect_documentary = len(all_imdb.loc[(all_imdb['genres'] == 'Documentary') &\n",
    "             (all_imdb['averagerating'] >= 8), 'genres']) \n",
    "\n",
    "perfect_comedy = len(all_imdb.loc[(all_imdb['genres'] == 'Comedy') &\n",
    "             (all_imdb['averagerating'] >= 8), 'genres']) \n",
    "\n",
    "perfect_dromedy = len(all_imdb.loc[(all_imdb['genres'] == 'Comedy,Drama') &\n",
    "             (all_imdb['averagerating'] >= 8), 'genres']) \n",
    "\n",
    "perfect_dromance = len(all_imdb.loc[(all_imdb['genres'] == 'Drama,Romance') &\n",
    "             (all_imdb['averagerating'] >= 8), 'genres']) \n",
    "\n",
    "# turn the numbers found for each genre into a percent\n",
    "perfect_drama_percent = perfect_drama / len(all_imdb['genres'])\n",
    "perfect_documentary_percent = perfect_documentary / len(all_imdb['genres'])\n",
    "perfect_comedy_percent = perfect_comedy / len(all_imdb['genres'])\n",
    "perfect_dromedy_percent = perfect_dromedy / len(all_imdb['genres'])\n",
    "perfect_dromance_percent = perfect_dromance / len(all_imdb['genres'])\n",
    "\n",
    "\n",
    "# Assign our results to a list\n",
    "perfect_movie_list = [perfect_drama, perfect_documentary, perfect_comedy, perfect_dromedy, perfect_dromance]\n",
    "perfect_percent_list = [(perfect_drama_percent, perfect_documentary_percent, perfect_comedy_percent, \n",
    "                        perfect_dromedy_percent, perfect_dromance_percent)]\n",
    "# Print out our list\n",
    "print(perfect_movie_list)\n",
    "print(perfect_percent_list)"
   ]
  },
  {
   "cell_type": "markdown",
   "metadata": {},
   "source": [
    "So, from this list we can see that Drama had 9 movies with perfect scores, Documentary with 73, Comedy with none, 'Dromedy' with 1, and Drama/Romance with none."
   ]
  },
  {
   "cell_type": "markdown",
   "metadata": {},
   "source": [
    "We can visualize this in a graph:"
   ]
  },
  {
   "cell_type": "code",
   "execution_count": 24,
   "metadata": {},
   "outputs": [
    {
     "data": {
      "image/png": "[encoded data removed]",
      "text/plain": [
       "<Figure size 1080x360 with 1 Axes>"
      ]
     },
     "metadata": {
      "needs_background": "light"
     },
     "output_type": "display_data"
    }
   ],
   "source": [
    "# Create a list to hold my top 5 genres.\n",
    "genre_list = ['Drama', 'Documentary', 'Comedy', 'Dromedy', 'Dromance']\n",
    "# Create a plot where x is our 'genre_list' and y is our 'perfect_movie_list'\n",
    "plt.figure(figsize=(15, 5))\n",
    "plt.bar(genre_list, perfect_movie_list)\n",
    "plt.xlabel('Genres')\n",
    "plt.ylabel('Number of movies 8/10 or higher')\n",
    "plt.title('What is the highest rated genre on IMDB?')\n",
    "plt.show()"
   ]
  },
  {
   "cell_type": "code",
   "execution_count": 25,
   "metadata": {},
   "outputs": [
    {
     "data": {
      "image/png": "[encoded data removed]",
      "text/plain": [
       "<Figure size 1080x360 with 1 Axes>"
      ]
     },
     "metadata": {
      "needs_background": "light"
     },
     "output_type": "display_data"
    }
   ],
   "source": [
    "percents = [7, 11, 2, 1, 0.4]\n",
    "# Create a plot where x is our 'genre_list' and y is our percents.\n",
    "plt.figure(figsize=(15, 5))\n",
    "plt.bar(genre_list, percents)\n",
    "plt.xlabel('Genres')\n",
    "plt.ylabel('Percentage per 1,000 films')\n",
    "plt.title('Which genre has the highest score by percent?')\n",
    "plt.show()"
   ]
  },
  {
   "cell_type": "markdown",
   "metadata": {},
   "source": [
    "### Part 2: Rotten Tomates and The Movie Database"
   ]
  },
  {
   "cell_type": "markdown",
   "metadata": {},
   "source": [
    "I begin Part 2 by investigating each of the dataframes in my Rotten Tomatoes and Movie Database files by calling my 'inspect_data' function."
   ]
  },
  {
   "cell_type": "code",
   "execution_count": 26,
   "metadata": {
    "scrolled": false
   },
   "outputs": [],
   "source": [
    "#inspect_data(rotten_movie_info)\n",
    "#inspect_data(rotten_reviews)\n",
    "#inspect_data(tmdb_movies)\n",
    "#inspect_data(tn_movie_budgets)"
   ]
  },
  {
   "cell_type": "markdown",
   "metadata": {},
   "source": [
    "Just as I did in Part 1, I noticed that, amongst the datasets, certain columns and values were mirrored: the datasets from Rotten Tomatoes and The Movie Database each had an 'id' column by which they could be joined."
   ]
  },
  {
   "cell_type": "code",
   "execution_count": 27,
   "metadata": {},
   "outputs": [],
   "source": [
    "# Set 'id' as the index for both 'rotten_movie_info' and 'rotten_reviews'\n",
    "rotten_movie_info.set_index('id', inplace=True)\n",
    "rotten_reviews.set_index('id', inplace=True)"
   ]
  },
  {
   "cell_type": "code",
   "execution_count": 28,
   "metadata": {
    "scrolled": true
   },
   "outputs": [],
   "source": [
    "# Set 'id' as the index for both 'tmdb_movies' and 'tn_movie_budgets'\n",
    "tmdb_movies.set_index('id', inplace=True)\n",
    "tn_movie_budgets.set_index('id', inplace=True)"
   ]
  },
  {
   "cell_type": "markdown",
   "metadata": {},
   "source": [
    "I also noticed that 'tmdb_movies' contained a column called 'Unnamed: 0' which Pandas considered to be a stand-in for an unspecified index column for the dataframe. I decided to remove it, since it served no purpose."
   ]
  },
  {
   "cell_type": "code",
   "execution_count": 29,
   "metadata": {},
   "outputs": [],
   "source": [
    "# Drop the column 'Unnamed: 0'\n",
    "tmdb_movies.drop('Unnamed: 0', axis=1, inplace=True)"
   ]
  },
  {
   "cell_type": "markdown",
   "metadata": {},
   "source": [
    "Now that my dataframes from Rotten Tomatoes and the Movie Database each have their index columns set to 'id', I can begin to join my dataframes into a larger, more valuable table."
   ]
  },
  {
   "cell_type": "code",
   "execution_count": 30,
   "metadata": {
    "scrolled": false
   },
   "outputs": [],
   "source": [
    "# Join 'rotten_movie_info' to 'rotten_reviews'. Both dataframes share a 'release_date'\n",
    "# column. I will merge these columns later. For now I will set 'rsuffix' to '_alt'\n",
    "# so that both 'release_date' columns will be kept.\n",
    "rotten_join = rotten_movie_info.join(rotten_reviews, how = \"outer\", rsuffix = \"_alt\")\n",
    "#rotten_join.head()"
   ]
  },
  {
   "cell_type": "code",
   "execution_count": 31,
   "metadata": {},
   "outputs": [],
   "source": [
    "# Join 'tmdb_movies' to 'tn_movie_budgets'. Both dataframes also share 'release_date',\n",
    "# So, just as before, I will set 'rsuffix' to '_alt' so that I can merge these columns later\n",
    "tmdb_join = tmdb_movies.join(tn_movie_budgets, how = \"outer\", rsuffix = \"_alt\")\n",
    "#tmdb_join.head()"
   ]
  },
  {
   "cell_type": "code",
   "execution_count": 32,
   "metadata": {
    "scrolled": true
   },
   "outputs": [],
   "source": [
    "# Join 'rotten_join' and 'tmdb_join' to make a larger dataframe.\n",
    "rotten_tmdb = rotten_join.join(tmdb_join, how = \"outer\")\n",
    "# Doublecheck:\n",
    "#rotten_tmdb.head()"
   ]
  },
  {
   "cell_type": "markdown",
   "metadata": {},
   "source": [
    "Now that my datasets have been grouped into a larger, more valuable dataframe, I can group 'rotten_tmdb'\n",
    "by those columns I believe to be the most useful."
   ]
  },
  {
   "cell_type": "code",
   "execution_count": 33,
   "metadata": {
    "scrolled": true
   },
   "outputs": [],
   "source": [
    "# Group 'rotten_tmdb' by 'genre', 'runtime', 'vote_average', and 'worldwide_gross'\n",
    "# retain the index of 'rotten_tmdb' as the index for 'rotten_tmdb_grouped'\n",
    "rotten_tmdb_grouped = rotten_tmdb.groupby([rotten_tmdb.index])[('genre', 'vote_average')]\n",
    "#rotten_tmdb_grouped.head()"
   ]
  },
  {
   "cell_type": "markdown",
   "metadata": {},
   "source": [
    "Now, just as I did in Part 1, first I will drop NaN and null values."
   ]
  },
  {
   "cell_type": "code",
   "execution_count": 34,
   "metadata": {},
   "outputs": [],
   "source": [
    "rt_genre = rotten_tmdb['genre'].dropna()"
   ]
  },
  {
   "cell_type": "markdown",
   "metadata": {},
   "source": [
    "### Question 1:\n",
    "What are the Top 5 Genres of films across Rotten Tomatoes and The Movie Database?"
   ]
  },
  {
   "cell_type": "code",
   "execution_count": 35,
   "metadata": {
    "scrolled": false
   },
   "outputs": [
    {
     "name": "stdout",
     "output_type": "stream",
     "text": [
      "{'Drama': 43080, 'Comedy': 26047, 'Comedy|Drama': 22236, 'Comedy|Kids and Family|Romance': 10324, 'Comedy|Romance': 10158}\n"
     ]
    },
    {
     "data": {
      "image/png": "[encoded data removed]",
      "text/plain": [
       "<Figure size 1080x360 with 1 Axes>"
      ]
     },
     "metadata": {
      "needs_background": "light"
     },
     "output_type": "display_data"
    },
    {
     "data": {
      "text/plain": [
       "(None,\n",
       " (<Figure size 1080x360 with 1 Axes>,\n",
       "  <BarContainer object of 5 artists>,\n",
       "  Text(0.5, 17.200000000000003, 'Genre'),\n",
       "  Text(17.200000000000003, 0.5, 'Number of Movies'),\n",
       "  Text(0.5, 1, 'Genres by Film Count'),\n",
       "  None))"
      ]
     },
     "execution_count": 35,
     "metadata": {},
     "output_type": "execute_result"
    }
   ],
   "source": [
    "# This section is self-explanatory, as we used this code before for the IMDB dataset\n",
    "def top_5_genres(dataset):\n",
    "\n",
    "    frequency_dict = {}\n",
    "    \n",
    "    for genre in dataset:\n",
    "        if genre not in frequency_dict:\n",
    "            frequency_dict[genre] = 1\n",
    "        else:\n",
    "            frequency_dict[genre] += 1\n",
    "\n",
    "    top_5_genres = dict(Counter(frequency_dict).most_common(5))\n",
    "            \n",
    "    return  print(top_5_genres), (plt.figure(figsize=(15,5)), plt.bar(*zip(*sorted(top_5_genres.items()))), plt.xlabel('Genre'),\n",
    "    plt.ylabel('Number of Movies'), plt.title('Genres by Film Count'), plt.show())\n",
    "\n",
    "top_5_genres(rt_genre)"
   ]
  },
  {
   "cell_type": "markdown",
   "metadata": {},
   "source": [
    "### Question 2:\n",
    "What is the most common rating for movies on Rotten Tomatoes and The Movie Database?"
   ]
  },
  {
   "cell_type": "code",
   "execution_count": 36,
   "metadata": {},
   "outputs": [
    {
     "name": "stdout",
     "output_type": "stream",
     "text": [
      "6\n"
     ]
    }
   ],
   "source": [
    "# Same use as our IMDB dataset\n",
    "rating_mode = round(int(rotten_tmdb['vote_average'].mode()))\n",
    "print(rating_mode)"
   ]
  },
  {
   "cell_type": "markdown",
   "metadata": {},
   "source": [
    "This is the same value we received when performing this calculation on the IMDB dataset. This shows that\n",
    "most movies on any database are scored 6/10."
   ]
  },
  {
   "cell_type": "markdown",
   "metadata": {},
   "source": [
    "Now that we know our Top 5 Film Genres from Rotten Tomatoes and The Movie Database, we can see which genre\n",
    "most consistently scored 10/10."
   ]
  },
  {
   "cell_type": "markdown",
   "metadata": {},
   "source": [
    "### Question 3:\n",
    "Which film genre across scored >= 6/10 (our average rating) the most?\n"
   ]
  },
  {
   "cell_type": "code",
   "execution_count": 37,
   "metadata": {},
   "outputs": [
    {
     "name": "stdout",
     "output_type": "stream",
     "text": [
      "[225, 300, 0, 0, 0] [(0.0008468452192764554, 0.001129126959035274, 0.0, 0.0, 0.0)]\n"
     ]
    }
   ],
   "source": [
    "perfect_drama = len(rotten_tmdb.loc[(rotten_tmdb['genre'] == 'Drama') &\n",
    "             (rotten_tmdb['vote_average'] >= 6), 'genre'])\n",
    "perfect_comedy = len(rotten_tmdb.loc[(rotten_tmdb['genre'] == 'Comedy') &\n",
    "             (rotten_tmdb['vote_average'] >= 6), 'genre'])\n",
    "perfect_dromedy = len(rotten_tmdb.loc[(rotten_tmdb['genre'] == 'Comedy|Drama') &\n",
    "             (rotten_tmdb['vote_average'] >= 6), 'genre'])\n",
    "perfect_fam_rom_com = len(rotten_tmdb.loc[(rotten_tmdb['genre'] == 'Comedy|Kids and Family|Romance') &\n",
    "             (rotten_tmdb['vote_average'] >= 6), 'genre'])\n",
    "perfect_rom_com = len(rotten_tmdb.loc[(rotten_tmdb['genre'] == 'Comedy|Romance') &\n",
    "             (rotten_tmdb['vote_average'] >= 6), 'genre'])\n",
    "\n",
    "# turn the numbers found for each genre into a percent\n",
    "perfect_drama_percent = perfect_drama / len(rotten_tmdb['genre'])\n",
    "perfect_comedy_percent = perfect_comedy / len(rotten_tmdb['genre'])\n",
    "perfect_dromedy_percent = perfect_dromedy / len(rotten_tmdb['genre'])\n",
    "perfect_fam_rom_com_percent = perfect_fam_rom_com / len(rotten_tmdb['genre'])\n",
    "perfect_rom_com_percent = perfect_rom_com / len(rotten_tmdb['genre'])\n",
    "\n",
    "perfect_movie_list = [perfect_drama, perfect_comedy, perfect_dromedy, perfect_fam_rom_com, perfect_rom_com]\n",
    "perfect_percent_list = [(perfect_drama_percent, perfect_comedy_percent, perfect_dromedy_percent,\n",
    "                         perfect_fam_rom_com_percent, perfect_rom_com_percent)]\n",
    "print(perfect_movie_list, perfect_percent_list)"
   ]
  },
  {
   "cell_type": "code",
   "execution_count": 38,
   "metadata": {
    "scrolled": true
   },
   "outputs": [
    {
     "data": {
      "image/png": "[encoded data removed]",
      "text/plain": [
       "<Figure size 1080x360 with 1 Axes>"
      ]
     },
     "metadata": {
      "needs_background": "light"
     },
     "output_type": "display_data"
    }
   ],
   "source": [
    "# Same use as our IMDB dataset\n",
    "genre_list = ['Drama', 'Comedy', 'Comedy|Drama', 'Comedy|Kids and Family|Romance', 'Comedy|Romance']\n",
    "plt.figure(figsize=(15, 5))\n",
    "plt.bar(genre_list, perfect_movie_list)\n",
    "plt.xlabel('Genres')\n",
    "plt.ylabel('Number of 6/10 or greater')\n",
    "plt.title('What is the highest rated genre?')\n",
    "plt.show()"
   ]
  },
  {
   "cell_type": "code",
   "execution_count": 39,
   "metadata": {},
   "outputs": [
    {
     "data": {
      "image/png": "[encoded data removed]",
      "text/plain": [
       "<Figure size 1080x360 with 1 Axes>"
      ]
     },
     "metadata": {
      "needs_background": "light"
     },
     "output_type": "display_data"
    }
   ],
   "source": [
    "genre_list = ['Drama','Comedy','Comedy|Drama','Comedy|Kids and Family|Romance','Comedy|Romance']\n",
    "percents = [8, 10, 0, 0, 0]\n",
    "# Create a plot where x is our 'genre_list' and y is our percents\n",
    "plt.figure(figsize=(15, 5))\n",
    "plt.bar(genre_list, percents)\n",
    "plt.xlabel('Genres')\n",
    "plt.ylabel('Percentage per 10,000 films')\n",
    "plt.title('Which genre has the highest score by percent?')\n",
    "plt.show()"
   ]
  },
  {
   "cell_type": "markdown",
   "metadata": {},
   "source": [
    "### Part 3: Gross"
   ]
  },
  {
   "cell_type": "code",
   "execution_count": 40,
   "metadata": {},
   "outputs": [
    {
     "data": {
      "text/html": [
       "<div>\n",
       "<style scoped>\n",
       "    .dataframe tbody tr th:only-of-type {\n",
       "        vertical-align: middle;\n",
       "    }\n",
       "\n",
       "    .dataframe tbody tr th {\n",
       "        vertical-align: top;\n",
       "    }\n",
       "\n",
       "    .dataframe thead th {\n",
       "        text-align: right;\n",
       "    }\n",
       "</style>\n",
       "<table border=\"1\" class=\"dataframe\">\n",
       "  <thead>\n",
       "    <tr style=\"text-align: right;\">\n",
       "      <th></th>\n",
       "      <th>title</th>\n",
       "      <th>studio</th>\n",
       "      <th>domestic_gross</th>\n",
       "      <th>foreign_gross</th>\n",
       "      <th>year</th>\n",
       "    </tr>\n",
       "  </thead>\n",
       "  <tbody>\n",
       "    <tr>\n",
       "      <td>0</td>\n",
       "      <td>Toy Story 3</td>\n",
       "      <td>BV</td>\n",
       "      <td>415000000.0</td>\n",
       "      <td>652000000</td>\n",
       "      <td>2010</td>\n",
       "    </tr>\n",
       "    <tr>\n",
       "      <td>1</td>\n",
       "      <td>Alice in Wonderland (2010)</td>\n",
       "      <td>BV</td>\n",
       "      <td>334200000.0</td>\n",
       "      <td>691300000</td>\n",
       "      <td>2010</td>\n",
       "    </tr>\n",
       "    <tr>\n",
       "      <td>2</td>\n",
       "      <td>Harry Potter and the Deathly Hallows Part 1</td>\n",
       "      <td>WB</td>\n",
       "      <td>296000000.0</td>\n",
       "      <td>664300000</td>\n",
       "      <td>2010</td>\n",
       "    </tr>\n",
       "    <tr>\n",
       "      <td>3</td>\n",
       "      <td>Inception</td>\n",
       "      <td>WB</td>\n",
       "      <td>292600000.0</td>\n",
       "      <td>535700000</td>\n",
       "      <td>2010</td>\n",
       "    </tr>\n",
       "    <tr>\n",
       "      <td>4</td>\n",
       "      <td>Shrek Forever After</td>\n",
       "      <td>P/DW</td>\n",
       "      <td>238700000.0</td>\n",
       "      <td>513900000</td>\n",
       "      <td>2010</td>\n",
       "    </tr>\n",
       "  </tbody>\n",
       "</table>\n",
       "</div>"
      ],
      "text/plain": [
       "                                         title studio  domestic_gross  \\\n",
       "0                                  Toy Story 3     BV     415000000.0   \n",
       "1                   Alice in Wonderland (2010)     BV     334200000.0   \n",
       "2  Harry Potter and the Deathly Hallows Part 1     WB     296000000.0   \n",
       "3                                    Inception     WB     292600000.0   \n",
       "4                          Shrek Forever After   P/DW     238700000.0   \n",
       "\n",
       "  foreign_gross  year  \n",
       "0     652000000  2010  \n",
       "1     691300000  2010  \n",
       "2     664300000  2010  \n",
       "3     535700000  2010  \n",
       "4     513900000  2010  "
      ]
     },
     "execution_count": 40,
     "metadata": {},
     "output_type": "execute_result"
    }
   ],
   "source": [
    "# Preliminary EDA for Box Office Mojo\n",
    "inspect_data(box_office_mojo)"
   ]
  },
  {
   "cell_type": "code",
   "execution_count": 41,
   "metadata": {
    "scrolled": true
   },
   "outputs": [
    {
     "data": {
      "text/html": [
       "<div>\n",
       "<style scoped>\n",
       "    .dataframe tbody tr th:only-of-type {\n",
       "        vertical-align: middle;\n",
       "    }\n",
       "\n",
       "    .dataframe tbody tr th {\n",
       "        vertical-align: top;\n",
       "    }\n",
       "\n",
       "    .dataframe thead th {\n",
       "        text-align: right;\n",
       "    }\n",
       "</style>\n",
       "<table border=\"1\" class=\"dataframe\">\n",
       "  <thead>\n",
       "    <tr style=\"text-align: right;\">\n",
       "      <th></th>\n",
       "      <th>release_date</th>\n",
       "      <th>movie</th>\n",
       "      <th>production_budget</th>\n",
       "      <th>domestic_gross</th>\n",
       "      <th>worldwide_gross</th>\n",
       "    </tr>\n",
       "    <tr>\n",
       "      <th>id</th>\n",
       "      <th></th>\n",
       "      <th></th>\n",
       "      <th></th>\n",
       "      <th></th>\n",
       "      <th></th>\n",
       "    </tr>\n",
       "  </thead>\n",
       "  <tbody>\n",
       "    <tr>\n",
       "      <td>1</td>\n",
       "      <td>Dec 18, 2009</td>\n",
       "      <td>Avatar</td>\n",
       "      <td>$425,000,000</td>\n",
       "      <td>$760,507,625</td>\n",
       "      <td>$2,776,345,279</td>\n",
       "    </tr>\n",
       "    <tr>\n",
       "      <td>2</td>\n",
       "      <td>May 20, 2011</td>\n",
       "      <td>Pirates of the Caribbean: On Stranger Tides</td>\n",
       "      <td>$410,600,000</td>\n",
       "      <td>$241,063,875</td>\n",
       "      <td>$1,045,663,875</td>\n",
       "    </tr>\n",
       "    <tr>\n",
       "      <td>3</td>\n",
       "      <td>Jun 7, 2019</td>\n",
       "      <td>Dark Phoenix</td>\n",
       "      <td>$350,000,000</td>\n",
       "      <td>$42,762,350</td>\n",
       "      <td>$149,762,350</td>\n",
       "    </tr>\n",
       "    <tr>\n",
       "      <td>4</td>\n",
       "      <td>May 1, 2015</td>\n",
       "      <td>Avengers: Age of Ultron</td>\n",
       "      <td>$330,600,000</td>\n",
       "      <td>$459,005,868</td>\n",
       "      <td>$1,403,013,963</td>\n",
       "    </tr>\n",
       "    <tr>\n",
       "      <td>5</td>\n",
       "      <td>Dec 15, 2017</td>\n",
       "      <td>Star Wars Ep. VIII: The Last Jedi</td>\n",
       "      <td>$317,000,000</td>\n",
       "      <td>$620,181,382</td>\n",
       "      <td>$1,316,721,747</td>\n",
       "    </tr>\n",
       "  </tbody>\n",
       "</table>\n",
       "</div>"
      ],
      "text/plain": [
       "    release_date                                        movie  \\\n",
       "id                                                              \n",
       "1   Dec 18, 2009                                       Avatar   \n",
       "2   May 20, 2011  Pirates of the Caribbean: On Stranger Tides   \n",
       "3    Jun 7, 2019                                 Dark Phoenix   \n",
       "4    May 1, 2015                      Avengers: Age of Ultron   \n",
       "5   Dec 15, 2017            Star Wars Ep. VIII: The Last Jedi   \n",
       "\n",
       "   production_budget domestic_gross worldwide_gross  \n",
       "id                                                   \n",
       "1       $425,000,000   $760,507,625  $2,776,345,279  \n",
       "2       $410,600,000   $241,063,875  $1,045,663,875  \n",
       "3       $350,000,000    $42,762,350    $149,762,350  \n",
       "4       $330,600,000   $459,005,868  $1,403,013,963  \n",
       "5       $317,000,000   $620,181,382  $1,316,721,747  "
      ]
     },
     "execution_count": 41,
     "metadata": {},
     "output_type": "execute_result"
    }
   ],
   "source": [
    "inspect_data(tn_movie_budgets)"
   ]
  },
  {
   "cell_type": "markdown",
   "metadata": {},
   "source": [
    "The Box Office Mojo Dataset shares a 'domestic_gross' column with tn_movie_budgets. As such, we can use these columns to generate some valuable insights into our data."
   ]
  },
  {
   "cell_type": "code",
   "execution_count": 42,
   "metadata": {},
   "outputs": [],
   "source": [
    "# Change $ to int\n",
    "tn_movie_budgets['production_budget'] = (tn_movie_budgets['production_budget']\n",
    "                                         .str.replace('$','')\n",
    "                                         .str.replace(',','')\n",
    "                                         .astype(int))\n",
    "\n",
    "tn_movie_budgets['domestic_gross'] = (tn_movie_budgets['domestic_gross']\n",
    "                                         .str.replace('$','')\n",
    "                                         .str.replace(',','')\n",
    "                                         .astype(int))\n",
    "\n",
    "tn_movie_budgets['worldwide_gross'] = (tn_movie_budgets['worldwide_gross']\n",
    "                                         .str.replace('$','')\n",
    "                                         .str.replace(',','')\n",
    "                                         .astype(int))"
   ]
  },
  {
   "cell_type": "code",
   "execution_count": 43,
   "metadata": {},
   "outputs": [
    {
     "data": {
      "text/html": [
       "<div>\n",
       "<style scoped>\n",
       "    .dataframe tbody tr th:only-of-type {\n",
       "        vertical-align: middle;\n",
       "    }\n",
       "\n",
       "    .dataframe tbody tr th {\n",
       "        vertical-align: top;\n",
       "    }\n",
       "\n",
       "    .dataframe thead th {\n",
       "        text-align: right;\n",
       "    }\n",
       "</style>\n",
       "<table border=\"1\" class=\"dataframe\">\n",
       "  <thead>\n",
       "    <tr style=\"text-align: right;\">\n",
       "      <th></th>\n",
       "      <th>release_date</th>\n",
       "      <th>movie</th>\n",
       "      <th>production_budget</th>\n",
       "      <th>domestic_gross</th>\n",
       "      <th>worldwide_gross</th>\n",
       "    </tr>\n",
       "    <tr>\n",
       "      <th>id</th>\n",
       "      <th></th>\n",
       "      <th></th>\n",
       "      <th></th>\n",
       "      <th></th>\n",
       "      <th></th>\n",
       "    </tr>\n",
       "  </thead>\n",
       "  <tbody>\n",
       "    <tr>\n",
       "      <td>1</td>\n",
       "      <td>Dec 18, 2009</td>\n",
       "      <td>Avatar</td>\n",
       "      <td>425000000</td>\n",
       "      <td>760507625</td>\n",
       "      <td>2776345279</td>\n",
       "    </tr>\n",
       "    <tr>\n",
       "      <td>2</td>\n",
       "      <td>May 20, 2011</td>\n",
       "      <td>Pirates of the Caribbean: On Stranger Tides</td>\n",
       "      <td>410600000</td>\n",
       "      <td>241063875</td>\n",
       "      <td>1045663875</td>\n",
       "    </tr>\n",
       "    <tr>\n",
       "      <td>3</td>\n",
       "      <td>Jun 7, 2019</td>\n",
       "      <td>Dark Phoenix</td>\n",
       "      <td>350000000</td>\n",
       "      <td>42762350</td>\n",
       "      <td>149762350</td>\n",
       "    </tr>\n",
       "    <tr>\n",
       "      <td>4</td>\n",
       "      <td>May 1, 2015</td>\n",
       "      <td>Avengers: Age of Ultron</td>\n",
       "      <td>330600000</td>\n",
       "      <td>459005868</td>\n",
       "      <td>1403013963</td>\n",
       "    </tr>\n",
       "    <tr>\n",
       "      <td>5</td>\n",
       "      <td>Dec 15, 2017</td>\n",
       "      <td>Star Wars Ep. VIII: The Last Jedi</td>\n",
       "      <td>317000000</td>\n",
       "      <td>620181382</td>\n",
       "      <td>1316721747</td>\n",
       "    </tr>\n",
       "  </tbody>\n",
       "</table>\n",
       "</div>"
      ],
      "text/plain": [
       "    release_date                                        movie  \\\n",
       "id                                                              \n",
       "1   Dec 18, 2009                                       Avatar   \n",
       "2   May 20, 2011  Pirates of the Caribbean: On Stranger Tides   \n",
       "3    Jun 7, 2019                                 Dark Phoenix   \n",
       "4    May 1, 2015                      Avengers: Age of Ultron   \n",
       "5   Dec 15, 2017            Star Wars Ep. VIII: The Last Jedi   \n",
       "\n",
       "    production_budget  domestic_gross  worldwide_gross  \n",
       "id                                                      \n",
       "1           425000000       760507625       2776345279  \n",
       "2           410600000       241063875       1045663875  \n",
       "3           350000000        42762350        149762350  \n",
       "4           330600000       459005868       1403013963  \n",
       "5           317000000       620181382       1316721747  "
      ]
     },
     "execution_count": 43,
     "metadata": {},
     "output_type": "execute_result"
    }
   ],
   "source": [
    "tn_movie_budgets.head()"
   ]
  },
  {
   "cell_type": "code",
   "execution_count": 44,
   "metadata": {},
   "outputs": [],
   "source": [
    "mojo_gross = box_office_mojo['domestic_gross'].dropna()\n",
    "mojo_title = box_office_mojo['title'].dropna()"
   ]
  },
  {
   "cell_type": "code",
   "execution_count": 45,
   "metadata": {
    "scrolled": false
   },
   "outputs": [
    {
     "name": "stdout",
     "output_type": "stream",
     "text": [
      "1872    936700000.0\n",
      "3080    700100000.0\n",
      "3079    678800000.0\n",
      "1873    652300000.0\n",
      "727     623400000.0\n",
      "Name: domestic_gross, dtype: float64\n"
     ]
    }
   ],
   "source": [
    "top_mojo = mojo_gross.nlargest(5)\n",
    "print(top_mojo)"
   ]
  },
  {
   "cell_type": "code",
   "execution_count": 46,
   "metadata": {
    "scrolled": true
   },
   "outputs": [
    {
     "data": {
      "text/html": [
       "<div>\n",
       "<style scoped>\n",
       "    .dataframe tbody tr th:only-of-type {\n",
       "        vertical-align: middle;\n",
       "    }\n",
       "\n",
       "    .dataframe tbody tr th {\n",
       "        vertical-align: top;\n",
       "    }\n",
       "\n",
       "    .dataframe thead th {\n",
       "        text-align: right;\n",
       "    }\n",
       "</style>\n",
       "<table border=\"1\" class=\"dataframe\">\n",
       "  <thead>\n",
       "    <tr style=\"text-align: right;\">\n",
       "      <th></th>\n",
       "      <th>title</th>\n",
       "      <th>studio</th>\n",
       "      <th>domestic_gross</th>\n",
       "      <th>foreign_gross</th>\n",
       "      <th>year</th>\n",
       "    </tr>\n",
       "  </thead>\n",
       "  <tbody>\n",
       "    <tr>\n",
       "      <td>1872</td>\n",
       "      <td>Star Wars: The Force Awakens</td>\n",
       "      <td>BV</td>\n",
       "      <td>936700000.0</td>\n",
       "      <td>1,131.6</td>\n",
       "      <td>2015</td>\n",
       "    </tr>\n",
       "  </tbody>\n",
       "</table>\n",
       "</div>"
      ],
      "text/plain": [
       "                             title studio  domestic_gross foreign_gross  year\n",
       "1872  Star Wars: The Force Awakens     BV     936700000.0       1,131.6  2015"
      ]
     },
     "execution_count": 46,
     "metadata": {},
     "output_type": "execute_result"
    }
   ],
   "source": [
    "top_film = box_office_mojo.loc[box_office_mojo['domestic_gross'] == 936700000.0]\n",
    "top_film"
   ]
  },
  {
   "cell_type": "code",
   "execution_count": 47,
   "metadata": {
    "scrolled": true
   },
   "outputs": [
    {
     "data": {
      "text/html": [
       "<div>\n",
       "<style scoped>\n",
       "    .dataframe tbody tr th:only-of-type {\n",
       "        vertical-align: middle;\n",
       "    }\n",
       "\n",
       "    .dataframe tbody tr th {\n",
       "        vertical-align: top;\n",
       "    }\n",
       "\n",
       "    .dataframe thead th {\n",
       "        text-align: right;\n",
       "    }\n",
       "</style>\n",
       "<table border=\"1\" class=\"dataframe\">\n",
       "  <thead>\n",
       "    <tr style=\"text-align: right;\">\n",
       "      <th></th>\n",
       "      <th>title</th>\n",
       "      <th>studio</th>\n",
       "      <th>domestic_gross</th>\n",
       "      <th>foreign_gross</th>\n",
       "      <th>year</th>\n",
       "    </tr>\n",
       "  </thead>\n",
       "  <tbody>\n",
       "    <tr>\n",
       "      <td>3080</td>\n",
       "      <td>Black Panther</td>\n",
       "      <td>BV</td>\n",
       "      <td>700100000.0</td>\n",
       "      <td>646900000</td>\n",
       "      <td>2018</td>\n",
       "    </tr>\n",
       "  </tbody>\n",
       "</table>\n",
       "</div>"
      ],
      "text/plain": [
       "              title studio  domestic_gross foreign_gross  year\n",
       "3080  Black Panther     BV     700100000.0     646900000  2018"
      ]
     },
     "execution_count": 47,
     "metadata": {},
     "output_type": "execute_result"
    }
   ],
   "source": [
    "second_film = box_office_mojo.loc[box_office_mojo['domestic_gross'] == 700100000.0]\n",
    "second_film"
   ]
  },
  {
   "cell_type": "code",
   "execution_count": 48,
   "metadata": {
    "scrolled": true
   },
   "outputs": [
    {
     "data": {
      "text/html": [
       "<div>\n",
       "<style scoped>\n",
       "    .dataframe tbody tr th:only-of-type {\n",
       "        vertical-align: middle;\n",
       "    }\n",
       "\n",
       "    .dataframe tbody tr th {\n",
       "        vertical-align: top;\n",
       "    }\n",
       "\n",
       "    .dataframe thead th {\n",
       "        text-align: right;\n",
       "    }\n",
       "</style>\n",
       "<table border=\"1\" class=\"dataframe\">\n",
       "  <thead>\n",
       "    <tr style=\"text-align: right;\">\n",
       "      <th></th>\n",
       "      <th>title</th>\n",
       "      <th>studio</th>\n",
       "      <th>domestic_gross</th>\n",
       "      <th>foreign_gross</th>\n",
       "      <th>year</th>\n",
       "    </tr>\n",
       "  </thead>\n",
       "  <tbody>\n",
       "    <tr>\n",
       "      <td>3079</td>\n",
       "      <td>Avengers: Infinity War</td>\n",
       "      <td>BV</td>\n",
       "      <td>678800000.0</td>\n",
       "      <td>1,369.5</td>\n",
       "      <td>2018</td>\n",
       "    </tr>\n",
       "  </tbody>\n",
       "</table>\n",
       "</div>"
      ],
      "text/plain": [
       "                       title studio  domestic_gross foreign_gross  year\n",
       "3079  Avengers: Infinity War     BV     678800000.0       1,369.5  2018"
      ]
     },
     "execution_count": 48,
     "metadata": {},
     "output_type": "execute_result"
    }
   ],
   "source": [
    "third_film = box_office_mojo.loc[box_office_mojo['domestic_gross'] == 678800000.0]\n",
    "third_film"
   ]
  },
  {
   "cell_type": "code",
   "execution_count": 49,
   "metadata": {
    "scrolled": true
   },
   "outputs": [
    {
     "data": {
      "text/html": [
       "<div>\n",
       "<style scoped>\n",
       "    .dataframe tbody tr th:only-of-type {\n",
       "        vertical-align: middle;\n",
       "    }\n",
       "\n",
       "    .dataframe tbody tr th {\n",
       "        vertical-align: top;\n",
       "    }\n",
       "\n",
       "    .dataframe thead th {\n",
       "        text-align: right;\n",
       "    }\n",
       "</style>\n",
       "<table border=\"1\" class=\"dataframe\">\n",
       "  <thead>\n",
       "    <tr style=\"text-align: right;\">\n",
       "      <th></th>\n",
       "      <th>title</th>\n",
       "      <th>studio</th>\n",
       "      <th>domestic_gross</th>\n",
       "      <th>foreign_gross</th>\n",
       "      <th>year</th>\n",
       "    </tr>\n",
       "  </thead>\n",
       "  <tbody>\n",
       "    <tr>\n",
       "      <td>1873</td>\n",
       "      <td>Jurassic World</td>\n",
       "      <td>Uni.</td>\n",
       "      <td>652300000.0</td>\n",
       "      <td>1,019.4</td>\n",
       "      <td>2015</td>\n",
       "    </tr>\n",
       "  </tbody>\n",
       "</table>\n",
       "</div>"
      ],
      "text/plain": [
       "               title studio  domestic_gross foreign_gross  year\n",
       "1873  Jurassic World   Uni.     652300000.0       1,019.4  2015"
      ]
     },
     "execution_count": 49,
     "metadata": {},
     "output_type": "execute_result"
    }
   ],
   "source": [
    "fourth_film = box_office_mojo.loc[box_office_mojo['domestic_gross'] == 652300000.0]\n",
    "fourth_film"
   ]
  },
  {
   "cell_type": "code",
   "execution_count": 50,
   "metadata": {},
   "outputs": [
    {
     "data": {
      "text/html": [
       "<div>\n",
       "<style scoped>\n",
       "    .dataframe tbody tr th:only-of-type {\n",
       "        vertical-align: middle;\n",
       "    }\n",
       "\n",
       "    .dataframe tbody tr th {\n",
       "        vertical-align: top;\n",
       "    }\n",
       "\n",
       "    .dataframe thead th {\n",
       "        text-align: right;\n",
       "    }\n",
       "</style>\n",
       "<table border=\"1\" class=\"dataframe\">\n",
       "  <thead>\n",
       "    <tr style=\"text-align: right;\">\n",
       "      <th></th>\n",
       "      <th>title</th>\n",
       "      <th>studio</th>\n",
       "      <th>domestic_gross</th>\n",
       "      <th>foreign_gross</th>\n",
       "      <th>year</th>\n",
       "    </tr>\n",
       "  </thead>\n",
       "  <tbody>\n",
       "    <tr>\n",
       "      <td>727</td>\n",
       "      <td>Marvel's The Avengers</td>\n",
       "      <td>BV</td>\n",
       "      <td>623400000.0</td>\n",
       "      <td>895500000</td>\n",
       "      <td>2012</td>\n",
       "    </tr>\n",
       "  </tbody>\n",
       "</table>\n",
       "</div>"
      ],
      "text/plain": [
       "                     title studio  domestic_gross foreign_gross  year\n",
       "727  Marvel's The Avengers     BV     623400000.0     895500000  2012"
      ]
     },
     "execution_count": 50,
     "metadata": {},
     "output_type": "execute_result"
    }
   ],
   "source": [
    "fifth_film = box_office_mojo.loc[box_office_mojo['domestic_gross'] == 623400000.0]\n",
    "fifth_film"
   ]
  },
  {
   "cell_type": "code",
   "execution_count": 51,
   "metadata": {},
   "outputs": [
    {
     "data": {
      "image/png": "[encoded data removed]",
      "text/plain": [
       "<Figure size 1080x360 with 1 Axes>"
      ]
     },
     "metadata": {
      "needs_background": "light"
     },
     "output_type": "display_data"
    }
   ],
   "source": [
    "movie_titles = ['Star Wars: The Force Awakens','Black Panther','Avengers: Infinity War','Jurassic World','Avengers']\n",
    "plt.figure(figsize=(15, 5))\n",
    "plt.bar(movie_titles, top_mojo)\n",
    "plt.xlabel('Film Title')\n",
    "plt.ylabel('Domestic Gross')\n",
    "plt.title('Domestic Gross by Film Title')\n",
    "plt.show()"
   ]
  },
  {
   "cell_type": "markdown",
   "metadata": {},
   "source": [
    "### Part 4: Conclusion"
   ]
  },
  {
   "cell_type": "markdown",
   "metadata": {},
   "source": [
    "Our results for IMDB, and Rotten Tomatoes/The Movie Database make it clear that not only are Dramas some of the most made films, they also consistently score higher than other genres among audiences. But the market is oversaturated with Dramas. Comedies score almost just as high. And, furthermore, Action movies seem to make the most money. As such, Microsoft's best bet would be to make a Comedy or an Action film."
   ]
  },
  {
   "cell_type": "code",
   "execution_count": null,
   "metadata": {},
   "outputs": [],
   "source": []
  }
 ],
 "metadata": {
  "kernelspec": {
   "display_name": "learn-env",
   "language": "python",
   "name": "learn-env"
  },
  "language_info": {
   "codemirror_mode": {
    "name": "ipython",
    "version": 3
   },
   "file_extension": ".py",
   "mimetype": "text/x-python",
   "name": "python",
   "nbconvert_exporter": "python",
   "pygments_lexer": "ipython3",
   "version": "3.7.6"
  }
 },
 "nbformat": 4,
 "nbformat_minor": 2
}
